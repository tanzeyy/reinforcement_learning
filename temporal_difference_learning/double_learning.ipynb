{
 "cells": [
  {
   "cell_type": "markdown",
   "metadata": {},
   "source": [
    "# Maximization Bias and Double Learning \n",
    "\n"
   ]
  },
  {
   "cell_type": "code",
   "execution_count": 1,
   "metadata": {},
   "outputs": [],
   "source": [
    "from simple_mdp import SimpleMDP\n",
    "import numpy as np\n",
    "from tqdm import tqdm\n",
    "from multiprocessing import Pool\n",
    "from itertools import chain\n",
    "\n",
    "import matplotlib.pyplot as plt\n",
    "\n",
    "env = SimpleMDP()\n",
    "eps, alpha, gamma = 0.1, 0.1, 1.0"
   ]
  },
  {
   "cell_type": "code",
   "execution_count": 2,
   "metadata": {},
   "outputs": [],
   "source": [
    "def argmax(values):\n",
    "    '''\n",
    "    Argmax with random ties breaking\n",
    "    '''\n",
    "    return np.random.choice(np.flatnonzero(values == values.max()))\n",
    "\n",
    "\n",
    "def q_learning(env, episode_num=300):\n",
    "    state_num = env.observation_space.n\n",
    "    action_num = env.action_space.n\n",
    "    q_values = np.zeros((state_num, action_num))\n",
    "\n",
    "    actions = []\n",
    "    for _ in range(episode_num):\n",
    "        obs, done = env.reset(), False\n",
    "        episode_actions = []\n",
    "        while not done:\n",
    "            if np.random.random() < eps:\n",
    "                act = env.action_space.sample()\n",
    "            else:\n",
    "                act = argmax(q_values[obs])\n",
    "            episode_actions.append(act)\n",
    "            next_obs, reward, done, _ = env.step(act)\n",
    "            q_values[obs][act] = q_values[obs][act] + alpha * (\n",
    "                reward + gamma * np.max(q_values[next_obs]) - q_values[obs][act])\n",
    "            obs = next_obs\n",
    "        actions.append(episode_actions[0])  # Record the action executed in starting state\n",
    "    return actions, q_values\n",
    "\n",
    "\n",
    "def double_q_learning(env, episode_num=300):\n",
    "    state_num = env.observation_space.n\n",
    "    action_num = env.action_space.n\n",
    "    q1 = np.zeros((state_num, action_num))\n",
    "    q2 = np.zeros((state_num, action_num))\n",
    "\n",
    "    actions = []\n",
    "    for _ in range(episode_num):\n",
    "        obs, done = env.reset(), False\n",
    "        episode_actions = []\n",
    "        while not done:\n",
    "            if np.random.random() < eps:\n",
    "                act = env.action_space.sample()\n",
    "            else:\n",
    "                q_values = q1 + q2\n",
    "                act = argmax(q_values[obs])\n",
    "            episode_actions.append(act)\n",
    "            next_obs, reward, done, _ = env.step(act)\n",
    "            # Double update\n",
    "            if np.random.random() < 0.5:\n",
    "                q1[obs][act] = q1[obs][act] + alpha * (\n",
    "                    reward + gamma * q2[next_obs][argmax(q1[next_obs])] - q1[obs][act])\n",
    "            else:\n",
    "                q2[obs][act] = q2[obs][act] + alpha * (\n",
    "                    reward + gamma * q1[next_obs][argmax(q2[next_obs])] - q2[obs][act])\n",
    "            obs = next_obs\n",
    "        actions.append(episode_actions[0])  # Record the action executed in starting state\n",
    "    return actions, q_values\n",
    "\n",
    "\n",
    "def run(algo_func, runs=1000):\n",
    "    all_actions = []\n",
    "    for _ in tqdm(range(runs)):\n",
    "        actions, _ = algo_func(env)\n",
    "        all_actions.append(actions)\n",
    "    return all_actions"
   ]
  },
  {
   "cell_type": "code",
   "execution_count": 3,
   "metadata": {
    "scrolled": true
   },
   "outputs": [
    {
     "name": "stderr",
     "output_type": "stream",
     "text": [
      "100%|██████████| 1000/1000 [00:08<00:00, 111.82it/s]\n",
      "100%|██████████| 1000/1000 [00:08<00:00, 111.60it/s]\n",
      "100%|██████████| 1000/1000 [00:08<00:00, 111.36it/s]\n",
      "100%|██████████| 1000/1000 [00:08<00:00, 111.31it/s]\n",
      "100%|██████████| 1000/1000 [00:08<00:00, 111.23it/s]\n",
      "100%|██████████| 1000/1000 [00:09<00:00, 111.10it/s]\n",
      "100%|██████████| 1000/1000 [00:09<00:00, 110.51it/s]\n",
      "100%|██████████| 1000/1000 [00:09<00:00, 110.83it/s]\n",
      "100%|██████████| 1000/1000 [00:09<00:00, 110.72it/s]\n",
      "100%|██████████| 1000/1000 [00:09<00:00, 109.52it/s]\n",
      " 99%|█████████▉| 988/1000 [00:12<00:00, 80.29it/s]]\n",
      "100%|██████████| 1000/1000 [00:12<00:00, 81.49it/s]\n",
      "100%|██████████| 1000/1000 [00:12<00:00, 81.08it/s]\n",
      "100%|██████████| 1000/1000 [00:12<00:00, 80.94it/s]\n",
      "100%|██████████| 1000/1000 [00:12<00:00, 80.73it/s]\n",
      "100%|██████████| 1000/1000 [00:12<00:00, 80.68it/s]\n",
      "100%|██████████| 1000/1000 [00:12<00:00, 80.36it/s]\n",
      "100%|██████████| 1000/1000 [00:12<00:00, 80.28it/s]\n",
      "100%|██████████| 1000/1000 [00:12<00:00, 80.02it/s]\n",
      "100%|██████████| 1000/1000 [00:12<00:00, 79.39it/s]\n"
     ]
    }
   ],
   "source": [
    "p_num = 10\n",
    "\n",
    "with Pool(p_num) as p:\n",
    "    all_actions = []\n",
    "    for actions in p.map(run, [q_learning for _ in range(p_num)]):\n",
    "        all_actions.extend(actions)\n",
    "    q_learning_curve = 1 - (np.sum(np.array(all_actions), axis=0)) / 10000\n",
    "    \n",
    "    all_actions = []\n",
    "    for actions in p.map(run, [double_q_learning for _ in range(p_num)]):\n",
    "        all_actions.extend(actions)\n",
    "    double_q_learning_curve = 1 - (np.sum(np.array(all_actions), axis=0)) / 10000"
   ]
  },
  {
   "cell_type": "code",
   "execution_count": 4,
   "metadata": {},
   "outputs": [
    {
     "data": {
      "text/plain": [
       "[<matplotlib.lines.Line2D at 0x7f510ec6b760>]"
      ]
     },
     "execution_count": 4,
     "metadata": {},
     "output_type": "execute_result"
    },
    {
     "data": {
      "image/png": "[encoded data removed]",
      "text/plain": [
       "<Figure size 432x288 with 1 Axes>"
      ]
     },
     "metadata": {
      "needs_background": "light"
     },
     "output_type": "display_data"
    }
   ],
   "source": [
    "plt.plot(q_learning_curve)\n",
    "plt.plot(double_q_learning_curve)"
   ]
  },
  {
   "cell_type": "markdown",
   "metadata": {},
   "source": [
    "Double Q-Learning (orange curve) seems to eliminate the positive bias in the estimation of `max`."
   ]
  }
 ],
 "metadata": {
  "kernelspec": {
   "display_name": "Python 3",
   "language": "python",
   "name": "python3"
  },
  "language_info": {
   "codemirror_mode": {
    "name": "ipython",
    "version": 3
   },
   "file_extension": ".py",
   "mimetype": "text/x-python",
   "name": "python",
   "nbconvert_exporter": "python",
   "pygments_lexer": "ipython3",
   "version": "3.8.5"
  }
 },
 "nbformat": 4,
 "nbformat_minor": 4
}
