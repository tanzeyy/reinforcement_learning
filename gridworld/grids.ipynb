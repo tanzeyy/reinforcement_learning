{
 "cells": [
  {
   "cell_type": "code",
   "execution_count": 1,
   "metadata": {},
   "outputs": [],
   "source": [
    "from env import *\n",
    "from tabulate import tabulate"
   ]
  },
  {
   "cell_type": "code",
   "execution_count": 2,
   "metadata": {},
   "outputs": [],
   "source": [
    "grid = Grid(size=(5, 5), special_states={(0, 1): (10, (4, 1)),\n",
    "                                         (0, 3): (5, (2, 3))})\n",
    "agent = Agent(grid.valid_states, (3, 4))\n",
    "\n",
    "mem = []\n",
    "policy = agent.random_policy\n",
    "\n",
    "# Gather data\n",
    "for i in range(5000):\n",
    "    action = agent.move(policy)\n",
    "    next_state, reward = grid.reward(agent.state, action)\n",
    "    mem.append([agent.state, action, reward, next_state])\n",
    "    agent.state = next_state\n",
    "    # print(agent.state, action, reward)\n",
    "\n",
    "gamma = 0.99\n",
    "\n",
    "def cnt(m, a, pos):\n",
    "    def elems(e, pos): return [e[i] for i in pos]\n",
    "    return np.sum([1 for e in m if a == elems(e, pos)])\n",
    "\n",
    "for state in grid.valid_states:\n",
    "    for action in agent.action_set:\n",
    "        s_a_cnt = cnt(mem, [state, action], [0, 1])\n",
    "        s_cnt = cnt(mem, [state], [0])\n",
    "        p_a = float(s_a_cnt / s_cnt)\n",
    "        ts = [[r, n_s] for s, a, r, n_s in mem if s == state and a == action]\n",
    "        agent.state_value[state] += p_a * np.sum([r + gamma * agent.state_value[n_s] for r, n_s in ts]) / s_a_cnt\n",
    "        pass\n",
    "\n",
    "table = np.around(show_values((5, 5), agent.state_value), decimals=1)"
   ]
  },
  {
   "cell_type": "code",
   "execution_count": 3,
   "metadata": {},
   "outputs": [
    {
     "name": "stdout",
     "output_type": "stream",
     "text": [
      "| -0.6 | 10   |  3.2 |  5   |  0.7 |\n",
      "| -0.4 |  3.2 |  1.2 |  1.7 |  0.5 |\n",
      "| -0.4 |  0.6 |  0.5 |  0.5 | -0   |\n",
      "| -0.4 |  0   |  0.1 |  0.2 | -0.2 |\n",
      "| -0.7 | -0.4 | -0.3 | -0.2 | -0.7 |\n"
     ]
    }
   ],
   "source": [
    "print(tabulate(table, tablefmt='orgtbl'))"
   ]
  },
  {
   "cell_type": "code",
   "execution_count": null,
   "metadata": {},
   "outputs": [],
   "source": []
  }
 ],
 "metadata": {
  "kernelspec": {
   "display_name": "rl",
   "language": "python",
   "name": "rl"
  },
  "language_info": {
   "codemirror_mode": {
    "name": "ipython",
    "version": 3
   },
   "file_extension": ".py",
   "mimetype": "text/x-python",
   "name": "python",
   "nbconvert_exporter": "python",
   "pygments_lexer": "ipython3",
   "version": "3.6.8"
  }
 },
 "nbformat": 4,
 "nbformat_minor": 2
}
