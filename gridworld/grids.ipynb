{
 "cells": [
  {
   "cell_type": "code",
   "execution_count": 1,
   "metadata": {},
   "outputs": [],
   "source": [
    "from env import *\n",
    "from tabulate import tabulate\n",
    "\n",
    "grid = Grid(size=(5, 5), special_states={(0, 1): (10, (4, 1)),\n",
    "                                         (0, 3): (5, (2, 3))})\n",
    "agent = Agent(grid.valid_states, (3, 4))\n",
    "\n",
    "policy = agent.random_policy"
   ]
  },
  {
   "cell_type": "markdown",
   "metadata": {},
   "source": [
    "###  Solve state-value function"
   ]
  },
  {
   "cell_type": "code",
   "execution_count": 2,
   "metadata": {},
   "outputs": [
    {
     "name": "stdout",
     "output_type": "stream",
     "text": [
      "[[ 3.3  8.8  4.4  5.3  1.5]\n",
      " [ 1.5  3.   2.3  1.9  0.6]\n",
      " [ 0.1  0.8  0.7  0.4 -0.4]\n",
      " [-1.  -0.4 -0.3 -0.6 -1.2]\n",
      " [-1.8 -1.3 -1.2 -1.4 -2. ]]\n"
     ]
    }
   ],
   "source": [
    "gamma = 0.9\n",
    "agent.reset_state_values()\n",
    "for i in range(20):\n",
    "    new_state_value = agent.state_value.copy()\n",
    "    for state in grid.valid_states:\n",
    "        backups = []\n",
    "        for action in agent.action_set:\n",
    "            p_a = 1 / len(agent.action_set)\n",
    "            next_state, reward = grid.reward(state, action)\n",
    "            new_value = p_a * (reward + gamma * agent.state_value[next_state])\n",
    "            backups.append(new_value)\n",
    "        new_state_value[state] = sum(backups)\n",
    "    agent.state_value = new_state_value\n",
    "table = np.around(show_values((5, 5), agent.state_value), decimals=1)\n",
    "print(table)"
   ]
  },
  {
   "cell_type": "markdown",
   "metadata": {},
   "source": [
    "### in-place version"
   ]
  },
  {
   "cell_type": "code",
   "execution_count": 3,
   "metadata": {},
   "outputs": [
    {
     "name": "stdout",
     "output_type": "stream",
     "text": [
      "[[ 3.4  8.8  4.5  5.4  1.5]\n",
      " [ 1.6  3.   2.3  2.   0.6]\n",
      " [ 0.1  0.8  0.7  0.4 -0.4]\n",
      " [-0.9 -0.4 -0.3 -0.5 -1.1]\n",
      " [-1.8 -1.3 -1.2 -1.4 -1.9]]\n"
     ]
    }
   ],
   "source": [
    "agent.reset_state_values()\n",
    "gamma = 0.9\n",
    "for i in range(15):\n",
    "    for state in grid.valid_states:\n",
    "        backups = []\n",
    "        for action in agent.action_set:\n",
    "            p_a = 1 / len(agent.action_set)\n",
    "            next_state, reward = grid.reward(state, action)\n",
    "            new_value = p_a * (reward + gamma * agent.state_value[next_state])\n",
    "            backups.append(new_value)\n",
    "        agent.state_value[state] = sum(backups)\n",
    "table = np.around(show_values((5, 5), agent.state_value), decimals=1)\n",
    "print(table)"
   ]
  },
  {
   "cell_type": "markdown",
   "metadata": {},
   "source": [
    "### Optimal state-value function"
   ]
  },
  {
   "cell_type": "code",
   "execution_count": 13,
   "metadata": {},
   "outputs": [
    {
     "name": "stdout",
     "output_type": "stream",
     "text": [
      "[[22.  24.4 22.  19.4 17.5]\n",
      " [19.8 22.  19.8 17.8 16. ]\n",
      " [17.8 19.8 17.8 16.  14.4]\n",
      " [16.  17.8 16.  14.4 13. ]\n",
      " [14.4 16.  14.4 13.  11.7]]\n"
     ]
    }
   ],
   "source": [
    "gamma = 0.9\n",
    "agent.reset_state_values()\n",
    "for i in range(500):\n",
    "    new_state_value = agent.state_value.copy()\n",
    "    for state in grid.valid_states:\n",
    "        backups = []\n",
    "        for action in agent.action_set:\n",
    "            p_a = 1 # Transition prob is 1.0\n",
    "            next_state, reward = grid.reward(state, action)\n",
    "            new_value = p_a * (reward + gamma * agent.state_value[next_state])\n",
    "            backups.append(new_value)\n",
    "        new_state_value[state] = max(backups)\n",
    "    agent.state_value = new_state_value\n",
    "table = np.around(show_values((5, 5), agent.state_value), decimals=1)\n",
    "print(table)"
   ]
  },
  {
   "cell_type": "code",
   "execution_count": null,
   "metadata": {},
   "outputs": [],
   "source": []
  }
 ],
 "metadata": {
  "kernelspec": {
   "display_name": "Python 3",
   "language": "python",
   "name": "python3"
  },
  "language_info": {
   "codemirror_mode": {
    "name": "ipython",
    "version": 3
   },
   "file_extension": ".py",
   "mimetype": "text/x-python",
   "name": "python",
   "nbconvert_exporter": "python",
   "pygments_lexer": "ipython3",
   "version": "3.7.3"
  }
 },
 "nbformat": 4,
 "nbformat_minor": 2
}
